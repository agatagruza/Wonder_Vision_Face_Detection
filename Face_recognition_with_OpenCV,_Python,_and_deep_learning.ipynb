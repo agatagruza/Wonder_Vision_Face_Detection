{
  "nbformat": 4,
  "nbformat_minor": 0,
  "metadata": {
    "colab": {
      "name": "Face recognition with OpenCV, Python, and deep learning.ipynb",
      "version": "0.3.2",
      "provenance": [],
      "include_colab_link": true
    },
    "kernelspec": {
      "name": "python3",
      "display_name": "Python 3"
    },
    "accelerator": "GPU"
  },
  "cells": [
    {
      "cell_type": "markdown",
      "metadata": {
        "id": "view-in-github",
        "colab_type": "text"
      },
      "source": [
        "<a href=\"https://colab.research.google.com/github/agatagruza/Wonder_Vision_Face_Detection/blob/master/Face_recognition_with_OpenCV%2C_Python%2C_and_deep_learning.ipynb\" target=\"_parent\"><img src=\"https://colab.research.google.com/assets/colab-badge.svg\" alt=\"Open In Colab\"/></a>"
      ]
    },
    {
      "cell_type": "code",
      "metadata": {
        "id": "-4-y-1D-GiZP",
        "colab_type": "code",
        "colab": {
          "base_uri": "https://localhost:8080/",
          "height": 122
        },
        "outputId": "096faa18-5f38-4519-9e8d-669fcae89955"
      },
      "source": [
        "from google.colab import drive\n",
        "drive.mount('/content/gdrive')"
      ],
      "execution_count": 2,
      "outputs": [
        {
          "output_type": "stream",
          "text": [
            "Go to this URL in a browser: https://accounts.google.com/o/oauth2/auth?client_id=947318989803-6bn6qk8qdgf4n4g3pfee6491hc0brc4i.apps.googleusercontent.com&redirect_uri=urn%3Aietf%3Awg%3Aoauth%3A2.0%3Aoob&scope=email%20https%3A%2F%2Fwww.googleapis.com%2Fauth%2Fdocs.test%20https%3A%2F%2Fwww.googleapis.com%2Fauth%2Fdrive%20https%3A%2F%2Fwww.googleapis.com%2Fauth%2Fdrive.photos.readonly%20https%3A%2F%2Fwww.googleapis.com%2Fauth%2Fpeopleapi.readonly&response_type=code\n",
            "\n",
            "Enter your authorization code:\n",
            "··········\n",
            "Mounted at /content/gdrive\n"
          ],
          "name": "stdout"
        }
      ]
    },
    {
      "cell_type": "code",
      "metadata": {
        "id": "FTzbHX4HHqpx",
        "colab_type": "code",
        "colab": {
          "base_uri": "https://localhost:8080/",
          "height": 85
        },
        "outputId": "6b7820ef-e686-487e-db39-e67bb94c60f4"
      },
      "source": [
        "!ls /content/gdrive/'My Drive'/face-recognition-opencv"
      ],
      "execution_count": 5,
      "outputs": [
        {
          "output_type": "stream",
          "text": [
            "dataset\t\t  output\t\t\t search_bing_api.py\n",
            "encode_faces.py   recognize_faces_image.py\t videos\n",
            "encodings.pickle  recognize_faces_video_file.py\n",
            "examples\t  recognize_faces_video.py\n"
          ],
          "name": "stdout"
        }
      ]
    },
    {
      "cell_type": "code",
      "metadata": {
        "id": "zYJUFbvKEK3c",
        "colab_type": "code",
        "colab": {}
      },
      "source": [
        "!pip install dlib"
      ],
      "execution_count": 0,
      "outputs": []
    },
    {
      "cell_type": "code",
      "metadata": {
        "id": "CqMXYGvUGifd",
        "colab_type": "code",
        "colab": {
          "base_uri": "https://localhost:8080/",
          "height": 306
        },
        "outputId": "71eb9ccd-b886-4298-f11b-9478c917faf4"
      },
      "source": [
        " pip install face_recognition"
      ],
      "execution_count": 6,
      "outputs": [
        {
          "output_type": "stream",
          "text": [
            "Collecting face_recognition\n",
            "  Downloading https://files.pythonhosted.org/packages/3f/ed/ad9a28042f373d4633fc8b49109b623597d6f193d3bbbef7780a5ee8eef2/face_recognition-1.2.3-py2.py3-none-any.whl\n",
            "Collecting face-recognition-models>=0.3.0 (from face_recognition)\n",
            "\u001b[?25l  Downloading https://files.pythonhosted.org/packages/cf/3b/4fd8c534f6c0d1b80ce0973d01331525538045084c73c153ee6df20224cf/face_recognition_models-0.3.0.tar.gz (100.1MB)\n",
            "\u001b[K     |████████████████████████████████| 100.2MB 313kB/s \n",
            "\u001b[?25hRequirement already satisfied: Click>=6.0 in /usr/local/lib/python3.6/dist-packages (from face_recognition) (7.0)\n",
            "Requirement already satisfied: dlib>=19.7 in /usr/local/lib/python3.6/dist-packages (from face_recognition) (19.16.0)\n",
            "Requirement already satisfied: numpy in /usr/local/lib/python3.6/dist-packages (from face_recognition) (1.16.4)\n",
            "Requirement already satisfied: Pillow in /usr/local/lib/python3.6/dist-packages (from face_recognition) (4.3.0)\n",
            "Requirement already satisfied: olefile in /usr/local/lib/python3.6/dist-packages (from Pillow->face_recognition) (0.46)\n",
            "Building wheels for collected packages: face-recognition-models\n",
            "  Building wheel for face-recognition-models (setup.py) ... \u001b[?25l\u001b[?25hdone\n",
            "  Created wheel for face-recognition-models: filename=face_recognition_models-0.3.0-py2.py3-none-any.whl size=100566174 sha256=66b5e6aeb2d21b39a22e5697ad1a663c0fce2bbcafb956b159718643a199555d\n",
            "  Stored in directory: /root/.cache/pip/wheels/d2/99/18/59c6c8f01e39810415c0e63f5bede7d83dfb0ffc039865465f\n",
            "Successfully built face-recognition-models\n",
            "Installing collected packages: face-recognition-models, face-recognition\n",
            "Successfully installed face-recognition-1.2.3 face-recognition-models-0.3.0\n"
          ],
          "name": "stdout"
        }
      ]
    },
    {
      "cell_type": "code",
      "metadata": {
        "id": "kyQzFbMVIQip",
        "colab_type": "code",
        "colab": {
          "base_uri": "https://localhost:8080/",
          "height": 34
        },
        "outputId": "852adfb4-741f-4b85-e8be-57d7438bdf6e"
      },
      "source": [
        "pip install imutils"
      ],
      "execution_count": 7,
      "outputs": [
        {
          "output_type": "stream",
          "text": [
            "Requirement already satisfied: imutils in /usr/local/lib/python3.6/dist-packages (0.5.2)\n"
          ],
          "name": "stdout"
        }
      ]
    },
    {
      "cell_type": "code",
      "metadata": {
        "id": "Zyr0AN1EIQpa",
        "colab_type": "code",
        "colab": {}
      },
      "source": [
        "# import the necessary packages\n",
        "from imutils import paths\n",
        "import face_recognition\n",
        "import argparse\n",
        "import pickle\n",
        "import cv2\n",
        "import os"
      ],
      "execution_count": 0,
      "outputs": []
    },
    {
      "cell_type": "code",
      "metadata": {
        "id": "U6pj4gyiLAMd",
        "colab_type": "code",
        "colab": {}
      },
      "source": [
        "!cp gdrive/My\\ Drive/face-recognition-opencv/encode_faces.py .\n",
        "!cp gdrive/My\\ Drive/face-recognition-opencv/encodings.pickle .\n",
        "!cp -r gdrive/My\\ Drive/face-recognition-opencv/dataset ."
      ],
      "execution_count": 0,
      "outputs": []
    },
    {
      "cell_type": "code",
      "metadata": {
        "id": "EN6JtKsmIQmH",
        "colab_type": "code",
        "colab": {
          "base_uri": "https://localhost:8080/",
          "height": 1000
        },
        "outputId": "06beaadf-92db-4558-d371-791131251f6c"
      },
      "source": [
        "#%cd gdrive/My\\ Drive/face-recognition-opencv\n",
        "!python encode_faces.py --dataset dataset --encodings encodings.pickle"
      ],
      "execution_count": 37,
      "outputs": [
        {
          "output_type": "stream",
          "text": [
            "[INFO] quantifying faces...\n",
            "[INFO] processing image 1/212\n",
            "[INFO] processing image 2/212\n",
            "[INFO] processing image 3/212\n",
            "[INFO] processing image 4/212\n",
            "[INFO] processing image 5/212\n",
            "[INFO] processing image 6/212\n",
            "[INFO] processing image 7/212\n",
            "[INFO] processing image 8/212\n",
            "[INFO] processing image 9/212\n",
            "[INFO] processing image 10/212\n",
            "[INFO] processing image 11/212\n",
            "[INFO] processing image 12/212\n",
            "[INFO] processing image 13/212\n",
            "[INFO] processing image 14/212\n",
            "[INFO] processing image 15/212\n",
            "[INFO] processing image 16/212\n",
            "[INFO] processing image 17/212\n",
            "[INFO] processing image 18/212\n",
            "[INFO] processing image 19/212\n",
            "[INFO] processing image 20/212\n",
            "[INFO] processing image 21/212\n",
            "[INFO] processing image 22/212\n",
            "[INFO] processing image 23/212\n",
            "[INFO] processing image 24/212\n",
            "[INFO] processing image 25/212\n",
            "[INFO] processing image 26/212\n",
            "[INFO] processing image 27/212\n",
            "[INFO] processing image 28/212\n",
            "[INFO] processing image 29/212\n",
            "[INFO] processing image 30/212\n",
            "[INFO] processing image 31/212\n",
            "[INFO] processing image 32/212\n",
            "[INFO] processing image 33/212\n",
            "[INFO] processing image 34/212\n",
            "[INFO] processing image 35/212\n",
            "[INFO] processing image 36/212\n",
            "[INFO] processing image 37/212\n",
            "[INFO] processing image 38/212\n",
            "[INFO] processing image 39/212\n",
            "[INFO] processing image 40/212\n",
            "[INFO] processing image 41/212\n",
            "[INFO] processing image 42/212\n",
            "[INFO] processing image 43/212\n",
            "[INFO] processing image 44/212\n",
            "[INFO] processing image 45/212\n",
            "[INFO] processing image 46/212\n",
            "[INFO] processing image 47/212\n",
            "[INFO] processing image 48/212\n",
            "[INFO] processing image 49/212\n",
            "[INFO] processing image 50/212\n",
            "[INFO] processing image 51/212\n",
            "[INFO] processing image 52/212\n",
            "[INFO] processing image 53/212\n",
            "[INFO] processing image 54/212\n",
            "[INFO] processing image 55/212\n",
            "[INFO] processing image 56/212\n",
            "[INFO] processing image 57/212\n",
            "[INFO] processing image 58/212\n",
            "[INFO] processing image 59/212\n",
            "[INFO] processing image 60/212\n",
            "[INFO] processing image 61/212\n",
            "[INFO] processing image 62/212\n",
            "[INFO] processing image 63/212\n",
            "[INFO] processing image 64/212\n",
            "[INFO] processing image 65/212\n",
            "[INFO] processing image 66/212\n",
            "[INFO] processing image 67/212\n",
            "[INFO] processing image 68/212\n",
            "[INFO] processing image 69/212\n",
            "[INFO] processing image 70/212\n",
            "[INFO] processing image 71/212\n",
            "[INFO] processing image 72/212\n",
            "[INFO] processing image 73/212\n",
            "[INFO] processing image 74/212\n",
            "[INFO] processing image 75/212\n",
            "[INFO] processing image 76/212\n",
            "libpng warning: iCCP: known incorrect sRGB profile\n",
            "[INFO] processing image 77/212\n",
            "[INFO] processing image 78/212\n",
            "[INFO] processing image 79/212\n",
            "[INFO] processing image 80/212\n",
            "[INFO] processing image 81/212\n",
            "[INFO] processing image 82/212\n",
            "[INFO] processing image 83/212\n",
            "[INFO] processing image 84/212\n",
            "[INFO] processing image 85/212\n",
            "[INFO] processing image 86/212\n",
            "[INFO] processing image 87/212\n",
            "[INFO] processing image 88/212\n",
            "[INFO] processing image 89/212\n",
            "libpng warning: iCCP: known incorrect sRGB profile\n",
            "[INFO] processing image 90/212\n",
            "[INFO] processing image 91/212\n",
            "[INFO] processing image 92/212\n",
            "[INFO] processing image 93/212\n",
            "[INFO] processing image 94/212\n",
            "[INFO] processing image 95/212\n",
            "[INFO] processing image 96/212\n",
            "[INFO] processing image 97/212\n",
            "[INFO] processing image 98/212\n",
            "[INFO] processing image 99/212\n",
            "[INFO] processing image 100/212\n",
            "[INFO] processing image 101/212\n",
            "[INFO] processing image 102/212\n",
            "[INFO] processing image 103/212\n",
            "[INFO] processing image 104/212\n",
            "[INFO] processing image 105/212\n",
            "[INFO] processing image 106/212\n",
            "[INFO] processing image 107/212\n",
            "[INFO] processing image 108/212\n",
            "[INFO] processing image 109/212\n",
            "[INFO] processing image 110/212\n",
            "[INFO] processing image 111/212\n",
            "[INFO] processing image 112/212\n",
            "[INFO] processing image 113/212\n",
            "[INFO] processing image 114/212\n",
            "[INFO] processing image 115/212\n",
            "[INFO] processing image 116/212\n",
            "[INFO] processing image 117/212\n",
            "[INFO] processing image 118/212\n",
            "[INFO] processing image 119/212\n",
            "[INFO] processing image 120/212\n",
            "[INFO] processing image 121/212\n",
            "[INFO] processing image 122/212\n",
            "[INFO] processing image 123/212\n",
            "[INFO] processing image 124/212\n",
            "[INFO] processing image 125/212\n",
            "[INFO] processing image 126/212\n",
            "[INFO] processing image 127/212\n",
            "[INFO] processing image 128/212\n",
            "[INFO] processing image 129/212\n",
            "[INFO] processing image 130/212\n",
            "[INFO] processing image 131/212\n",
            "[INFO] processing image 132/212\n",
            "[INFO] processing image 133/212\n",
            "[INFO] processing image 134/212\n",
            "[INFO] processing image 135/212\n",
            "[INFO] processing image 136/212\n",
            "[INFO] processing image 137/212\n",
            "[INFO] processing image 138/212\n",
            "[INFO] processing image 139/212\n",
            "[INFO] processing image 140/212\n",
            "[INFO] processing image 141/212\n",
            "[INFO] processing image 142/212\n",
            "[INFO] processing image 143/212\n",
            "[INFO] processing image 144/212\n",
            "[INFO] processing image 145/212\n",
            "[INFO] processing image 146/212\n",
            "[INFO] processing image 147/212\n",
            "[INFO] processing image 148/212\n",
            "[INFO] processing image 149/212\n",
            "[INFO] processing image 150/212\n",
            "[INFO] processing image 151/212\n",
            "[INFO] processing image 152/212\n",
            "[INFO] processing image 153/212\n",
            "[INFO] processing image 154/212\n",
            "[INFO] processing image 155/212\n",
            "[INFO] processing image 156/212\n",
            "[INFO] processing image 157/212\n",
            "[INFO] processing image 158/212\n",
            "[INFO] processing image 159/212\n",
            "[INFO] processing image 160/212\n",
            "[INFO] processing image 161/212\n",
            "[INFO] processing image 162/212\n",
            "[INFO] processing image 163/212\n",
            "[INFO] processing image 164/212\n",
            "[INFO] processing image 165/212\n",
            "[INFO] processing image 166/212\n",
            "[INFO] processing image 167/212\n",
            "[INFO] processing image 168/212\n",
            "[INFO] processing image 169/212\n",
            "[INFO] processing image 170/212\n",
            "[INFO] processing image 171/212\n",
            "[INFO] processing image 172/212\n",
            "[INFO] processing image 173/212\n",
            "[INFO] processing image 174/212\n",
            "[INFO] processing image 175/212\n",
            "[INFO] processing image 176/212\n",
            "[INFO] processing image 177/212\n",
            "[INFO] processing image 178/212\n",
            "[INFO] processing image 179/212\n",
            "[INFO] processing image 180/212\n",
            "[INFO] processing image 181/212\n",
            "[INFO] processing image 182/212\n",
            "[INFO] processing image 183/212\n",
            "[INFO] processing image 184/212\n",
            "[INFO] processing image 185/212\n",
            "[INFO] processing image 186/212\n",
            "[INFO] processing image 187/212\n",
            "[INFO] processing image 188/212\n",
            "[INFO] processing image 189/212\n",
            "[INFO] processing image 190/212\n",
            "[INFO] processing image 191/212\n",
            "[INFO] processing image 192/212\n",
            "[INFO] processing image 193/212\n",
            "[INFO] processing image 194/212\n",
            "[INFO] processing image 195/212\n",
            "[INFO] processing image 196/212\n",
            "[INFO] processing image 197/212\n",
            "[INFO] processing image 198/212\n",
            "[INFO] processing image 199/212\n",
            "[INFO] processing image 200/212\n",
            "[INFO] processing image 201/212\n",
            "[INFO] processing image 202/212\n",
            "[INFO] processing image 203/212\n",
            "[INFO] processing image 204/212\n",
            "[INFO] processing image 205/212\n",
            "[INFO] processing image 206/212\n",
            "[INFO] processing image 207/212\n",
            "[INFO] processing image 208/212\n",
            "[INFO] processing image 209/212\n",
            "[INFO] processing image 210/212\n",
            "[INFO] processing image 211/212\n",
            "[INFO] processing image 212/212\n",
            "[INFO] serializing encodings...\n"
          ],
          "name": "stdout"
        }
      ]
    },
    {
      "cell_type": "code",
      "metadata": {
        "id": "fkCUAD3rJ92m",
        "colab_type": "code",
        "colab": {}
      },
      "source": [
        ""
      ],
      "execution_count": 0,
      "outputs": []
    },
    {
      "cell_type": "code",
      "metadata": {
        "id": "Wmv58JUsJ95q",
        "colab_type": "code",
        "colab": {}
      },
      "source": [
        ""
      ],
      "execution_count": 0,
      "outputs": []
    }
  ]
}